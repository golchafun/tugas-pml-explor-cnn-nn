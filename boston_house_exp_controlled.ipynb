{
  "nbformat": 4,
  "nbformat_minor": 0,
  "metadata": {
    "colab": {
      "name": "boston_house-exp-controlled.ipynb",
      "provenance": [],
      "collapsed_sections": []
    },
    "kernelspec": {
      "name": "python3",
      "display_name": "Python 3"
    },
    "language_info": {
      "name": "python"
    }
  },
  "cells": [
    {
      "cell_type": "markdown",
      "source": [
        "## Data \n",
        "Data yang digunakan pada kasus ini adalah boston housing price. Melakukan prediksi harga rumah menggunakan neural network dalam persoalan regresi. "
      ],
      "metadata": {
        "id": "KXlthYrB9sSA"
      }
    },
    {
      "cell_type": "code",
      "execution_count": null,
      "metadata": {
        "id": "RTclQ6t59TvR"
      },
      "outputs": [],
      "source": [
        "# import hal yang diperlukan\n",
        "from keras.datasets import boston_housing\n",
        "import tensorflow as tf\n",
        "from keras import models\n",
        "from keras import layers"
      ]
    },
    {
      "cell_type": "markdown",
      "source": [
        "Load data & persiapkan data. Lakukan normalisasi dengan mengurangi data dengan mean dari tiap feature, dan dibagi dengan nilai standar deviasinya. \n"
      ],
      "metadata": {
        "id": "U8VqgeUg-p7R"
      }
    },
    {
      "cell_type": "code",
      "source": [
        "# lakukan load data\n",
        "(train_data, train_targets), (test_data, test_targets) = boston_housing.load_data()\n",
        "\n",
        "# persiapkan data\n",
        "mean = train_data.mean(axis=0)\n",
        "train_data -= mean\n",
        "std = train_data.std(axis=0)\n",
        "train_data /= std\n",
        "\n",
        "test_data -= mean\n",
        "test_data /= std"
      ],
      "metadata": {
        "id": "Kf01KQlE-C2u"
      },
      "execution_count": null,
      "outputs": []
    },
    {
      "cell_type": "markdown",
      "source": [
        "untuk kenyamanan, pilih fungsi aktivasi dari daftar berikut"
      ],
      "metadata": {
        "id": "-1th5Db89qwr"
      }
    },
    {
      "cell_type": "code",
      "source": [
        "activation_function = 'relu'\n",
        "# activation_function = 'tanh'\n",
        "# activation_function = 'sigmoid'\n",
        "# from keras.layers import LeakyReLU\n",
        "# activation_function = LeakyReLU(alpha=0.01)\n",
        "# from keras.layers import PReLU\n",
        "# activation_function = PReLU()\n",
        "# activation_function='elu'"
      ],
      "metadata": {
        "id": "7R219tyc_VeN"
      },
      "execution_count": null,
      "outputs": []
    },
    {
      "cell_type": "markdown",
      "source": [
        "## Bentuk Model"
      ],
      "metadata": {
        "id": "KfF4PcOa_cBg"
      }
    },
    {
      "cell_type": "markdown",
      "source": [
        "Ilustrasi dari NN yang digunakan adalah sebagai berikut:\n",
        "\n",
        "![Ilustrasi NN](https://github.com/golchafun/tugas-pml-explor-cnn-nn/blob/master/gambar/Ilustrasi%20NN.jpg?raw=true)\n",
        "\n",
        "Parameter yang digunakan:\n",
        "*\tJumlah layer: 6\n",
        "*\tJumlah unit tiap layer: masing-masing 256\n",
        "*\tActivation function: ReLU\n",
        "*\tOptimizer: RMSProp\n"
      ],
      "metadata": {
        "id": "Z2vjxt3ELr8s"
      }
    },
    {
      "cell_type": "code",
      "source": [
        "def build_model():\n",
        "    model = models.Sequential()\n",
        "    model.add(layers.Dense(256, activation=activation_function, input_shape=(train_data.shape[1],)))\n",
        "    model.add(layers.Dense(256, activation=activation_function))\n",
        "    model.add(layers.Dense(256, activation=activation_function))\n",
        "    model.add(layers.Dense(256, activation=activation_function))\n",
        "    model.add(layers.Dense(256, activation=activation_function))\n",
        "    model.add(layers.Dense(256, activation=activation_function))\n",
        "\n",
        "    model.add(layers.Dense(1))\n",
        "\n",
        "    kind_optimizer = tf.keras.optimizers.RMSprop()\n",
        "    model.compile(\n",
        "        optimizer=kind_optimizer,\n",
        "        loss='mse',\n",
        "        metrics=['mae']\n",
        "    )\n",
        "    return model\n",
        "\n",
        "model = build_model()\n"
      ],
      "metadata": {
        "id": "hPdEQd9K_enh"
      },
      "execution_count": null,
      "outputs": []
    },
    {
      "cell_type": "markdown",
      "source": [
        "### Training & testing"
      ],
      "metadata": {
        "id": "H8Ha19cr_lXr"
      }
    },
    {
      "cell_type": "code",
      "source": [
        "# lakukan training\n",
        "model.fit(train_data, train_targets, epochs=60, verbose=0)\n",
        "# lakukan testing\n",
        "x = model.evaluate(test_data, test_targets)"
      ],
      "metadata": {
        "colab": {
          "base_uri": "https://localhost:8080/"
        },
        "id": "A1WaL90T_qCk",
        "outputId": "780d4a1b-23a4-4774-ef82-0aa7c1f10410"
      },
      "execution_count": null,
      "outputs": [
        {
          "output_type": "stream",
          "name": "stdout",
          "text": [
            "4/4 [==============================] - 0s 3ms/step - loss: 11.8060 - mae: 2.2426\n"
          ]
        }
      ]
    }
  ]
}